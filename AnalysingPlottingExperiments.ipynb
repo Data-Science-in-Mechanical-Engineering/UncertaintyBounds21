{
 "cells": [
  {
   "cell_type": "markdown",
   "metadata": {},
   "source": [
    "# Analysing experiments\n",
    "\n",
    "This notebook accompanies the AAAI 2021 submission \n",
    "_Practical and Rigorous Uncertainty Bounds for Gaussian Process Regression_.\n",
    "\n",
    "Here we analyse the results of the numerical experiments. The results have to be contained in a\n",
    "directory (in the same directory as this notebook) named by the tag of the experiment.\n",
    "As an alternative, the corresponding directory can be changed for each experiment (argument for\n",
    "function load_failures_and_scalings or output_dir for Experiment 1_4_c)."
   ]
  },
  {
   "cell_type": "code",
   "execution_count": 2,
   "metadata": {},
   "outputs": [],
   "source": [
    "import numpy as np\n",
    "import scipy.linalg as la\n",
    "import matplotlib.pyplot as plt\n",
    "\n",
    "%load_ext autoreload\n",
    "%autoreload 2"
   ]
  },
  {
   "cell_type": "code",
   "execution_count": 3,
   "metadata": {},
   "outputs": [],
   "source": [
    "import os"
   ]
  },
  {
   "cell_type": "code",
   "execution_count": 4,
   "metadata": {},
   "outputs": [],
   "source": [
    "# Auxiliary functions\n",
    "def load_failures_and_scalings(output_dir):\n",
    "    files = [f for f in os.listdir(os.path.join(output_dir)) if f.endswith('.npz')]\n",
    "    \n",
    "    # All runs have the same config\n",
    "    n_rep_funcs = len(files)\n",
    "    with open(os.path.join(output_dir, files[0]), 'rb') as file:\n",
    "        result = np.load(file)\n",
    "        n_rep_training = result['scalings'].shape[0]\n",
    "        n_scalings = result['failures'].shape[1]\n",
    "        \n",
    "    # Load results\n",
    "    failures = np.zeros([n_rep_funcs, n_rep_training, n_scalings])\n",
    "    scalings = np.zeros([n_rep_funcs, n_rep_training, n_scalings])\n",
    "    for i in range(len(files)):\n",
    "        with open(os.path.join(output_dir, files[i]), 'rb') as file:\n",
    "            result = np.load(file)\n",
    "            scalings[i,:] = result['scalings']\n",
    "            failures[i,:] = result['failures']\n",
    "    return (scalings, failures)"
   ]
  },
  {
   "cell_type": "markdown",
   "metadata": {},
   "source": [
    "## Experiment 1\n",
    "### Experiment 1.1: Basic test of nominal aposteriori bound\n",
    "This corresponds to Table 1, upper row."
   ]
  },
  {
   "cell_type": "code",
   "execution_count": 4,
   "metadata": {},
   "outputs": [
    {
     "name": "stdout",
     "output_type": "stream",
     "text": [
      "Experiment 1.1 a)\n",
      "\n",
      "Failures: [0. 0. 0. 0.]\n",
      "0: 6.95 +/- 0.04\n",
      "\n",
      "1: 7.39 +/- 0.04\n",
      "\n",
      "2: 7.80 +/- 0.03\n",
      "\n",
      "3: 8.19 +/- 0.03\n",
      "\n"
     ]
    }
   ],
   "source": [
    "(scalings_a, failures_a) = load_failures_and_scalings('exp_1_1_a')\n",
    "scalings_mean_a = np.mean(scalings_a, axis=(0,1))\n",
    "scalings_var_a = np.var(scalings_a, axis=(0,1))\n",
    "failures_a = np.sum(failures_a, axis=(0,1))\n",
    "\n",
    "print('Experiment 1.1 a)\\n')\n",
    "print(f'Failures: {failures_a}')\n",
    "for i in range(4):\n",
    "    print(f\"{i}: {scalings_mean_a[i]:1.2f} +/- {np.sqrt(scalings_var_a[i]):1.2f}\\n\")"
   ]
  },
  {
   "cell_type": "markdown",
   "metadata": {},
   "source": [
    "The following corresponds to Table 1, lower row."
   ]
  },
  {
   "cell_type": "code",
   "execution_count": 5,
   "metadata": {},
   "outputs": [
    {
     "name": "stdout",
     "output_type": "stream",
     "text": [
      "Experiment 1.1 b)\n",
      "\n",
      "Failures: [0. 0. 0. 0.]\n",
      "0: 7.36 +/- 0.04\n",
      "\n",
      "1: 7.78 +/- 0.04\n",
      "\n",
      "2: 8.16 +/- 0.04\n",
      "\n",
      "3: 8.53 +/- 0.04\n",
      "\n"
     ]
    }
   ],
   "source": [
    "(scalings_b, failures_b) = load_failures_and_scalings('exp_1_1_b')\n",
    "scalings_mean_b = np.mean(scalings_b, axis=(0,1))\n",
    "scalings_var_b = np.var(scalings_b, axis=(0,1))\n",
    "failures_b = np.sum(failures_b, axis=(0,1))\n",
    "\n",
    "print('Experiment 1.1 b)\\n')\n",
    "print(f'Failures: {failures_b}')\n",
    "for i in range(4):\n",
    "    print(f\"{i}: {scalings_mean_b[i]:1.2f} +/- {np.sqrt(scalings_var_b[i]):1.2f}\\n\")"
   ]
  },
  {
   "cell_type": "markdown",
   "metadata": {},
   "source": [
    "## Experiment 1.2: Exploring conservatism\n",
    "The results of this experiment are reported in the supplementary material.\n",
    "\n",
    "SE kernel, using generic kernel approach to sample the functions."
   ]
  },
  {
   "cell_type": "code",
   "execution_count": 6,
   "metadata": {},
   "outputs": [
    {
     "name": "stdout",
     "output_type": "stream",
     "text": [
      "Experiment 1.2 a)\n",
      "\n",
      "0: 2.00 +/- 0.00\n",
      "\n",
      "1: 2.28 +/- 0.00\n",
      "\n",
      "2: 2.57 +/- 0.00\n",
      "\n",
      "3: 2.85 +/- 0.01\n",
      "\n"
     ]
    }
   ],
   "source": [
    "(scalings_a, failures_a) = load_failures_and_scalings('exp_1_2_a/')\n",
    "scalings_mean_a = np.mean(scalings_a, axis=(0,1))\n",
    "scalings_var_a = np.var(scalings_a, axis=(0,1))\n",
    "\n",
    "print('Experiment 1.2 a)\\n')\n",
    "for i in range(4):\n",
    "    print(f\"{i}: {scalings_mean_a[i]:1.2f} +/- {np.sqrt(scalings_var_a[i]):1.2f}\\n\")"
   ]
  },
  {
   "cell_type": "markdown",
   "metadata": {},
   "source": [
    "This figure is shown as Figure 4 (left) in the supplementary material."
   ]
  },
  {
   "cell_type": "code",
   "execution_count": 7,
   "metadata": {},
   "outputs": [
    {
     "data": {
      "image/png": "[encoded data removed]",
      "text/plain": [
       "<Figure size 640x480 with 1 Axes>"
      ]
     },
     "metadata": {},
     "output_type": "display_data"
    }
   ],
   "source": [
    "failures_mean_a = np.mean(failures_a, axis=(0,1))\n",
    "plt.plot(np.arange(20), failures_mean_a, 'o')\n",
    "worst_a = np.max(np.mean(failures_a, axis=1), axis=0)\n",
    "plt.plot(np.arange(20), worst_a, 'o')\n",
    "\n",
    "plt.xticks(ticks=np.arange(20), labels=['2'] + [None]*18 + [r'$\\beta_{50}$'])\n",
    "plt.ylabel(\"Failure frequency\")\n",
    "plt.title('SE kernel (length scale 0.2)')\n",
    "_ = plt.legend(['Mean', 'Worst function'])\n",
    "plt.savefig('figures/figure4_left.pdf')"
   ]
  },
  {
   "cell_type": "markdown",
   "metadata": {},
   "source": [
    "Matern kernel. The corresponding figures is not included in the supplementary material."
   ]
  },
  {
   "cell_type": "code",
   "execution_count": 8,
   "metadata": {},
   "outputs": [
    {
     "name": "stdout",
     "output_type": "stream",
     "text": [
      "Experiment 1.2 b)\n",
      "\n",
      "0: 2.00 +/- 0.00\n",
      "\n",
      "1: 2.30 +/- 0.00\n",
      "\n",
      "2: 2.61 +/- 0.00\n",
      "\n",
      "3: 2.91 +/- 0.01\n",
      "\n"
     ]
    }
   ],
   "source": [
    "(scalings_b, failures_b) = load_failures_and_scalings('exp_1_2_b/')\n",
    "scalings_mean_b = np.mean(scalings_b, axis=(0,1))\n",
    "scalings_var_b = np.var(scalings_b, axis=(0,1))\n",
    "\n",
    "print('Experiment 1.2 b)\\n')\n",
    "for i in range(4):\n",
    "    print(f\"{i}: {scalings_mean_b[i]:1.2f} +/- {np.sqrt(scalings_var_b[i]):1.2f}\\n\")"
   ]
  },
  {
   "cell_type": "code",
   "execution_count": 9,
   "metadata": {},
   "outputs": [
    {
     "data": {
      "image/png": "[encoded data removed]",
      "text/plain": [
       "<Figure size 640x480 with 1 Axes>"
      ]
     },
     "metadata": {},
     "output_type": "display_data"
    }
   ],
   "source": [
    "failures_mean_b = np.mean(failures_b, axis=(0,1))\n",
    "plt.plot(np.arange(20), failures_mean_b, 'o')\n",
    "worst_b = np.max(np.mean(failures_b, axis=1), axis=0)\n",
    "plt.plot(np.arange(20), worst_b, 'o')\n",
    "\n",
    "plt.xticks(ticks=np.arange(20), labels=['2'] + [None]*18 + [r'$\\beta_{50}$'])\n",
    "plt.ylabel(\"Failure frequency\")\n",
    "plt.title(r'Matern kernel (length scale 0.2, $\\nu=1.5$)')\n",
    "_ = plt.legend(['Mean', 'Worst function'])"
   ]
  },
  {
   "cell_type": "markdown",
   "metadata": {},
   "source": [
    "SE kernel, functions sampled using the ONB approach."
   ]
  },
  {
   "cell_type": "code",
   "execution_count": null,
   "metadata": {},
   "outputs": [
    {
     "name": "stdout",
     "output_type": "stream",
     "text": [
      "Experiment 1.2 c)\n",
      "\n",
      "0: 2.00 +/- 0.00\n",
      "\n",
      "1: 2.28 +/- 0.00\n",
      "\n",
      "2: 2.57 +/- 0.00\n",
      "\n",
      "3: 2.85 +/- 0.01\n",
      "\n"
     ]
    }
   ],
   "source": [
    "(scalings_c, failures_c) = load_failures_and_scalings('exp_1_2_c')\n",
    "scalings_mean_c = np.mean(scalings_c, axis=(0,1))\n",
    "scalings_var_c = np.var(scalings_c, axis=(0,1))\n",
    "\n",
    "print('Experiment 1.2 c)\\n')\n",
    "for i in range(4):\n",
    "    print(f\"{i}: {scalings_mean_c[i]:1.2f} +/- {np.sqrt(scalings_var_c[i]):1.2f}\\n\")"
   ]
  },
  {
   "cell_type": "markdown",
   "metadata": {},
   "source": [
    "This figure is shown as Figure 4 (right) in the supplementary material."
   ]
  },
  {
   "cell_type": "code",
   "execution_count": 18,
   "metadata": {},
   "outputs": [
    {
     "data": {
      "image/png": "[encoded data removed]",
      "text/plain": [
       "<Figure size 640x480 with 1 Axes>"
      ]
     },
     "metadata": {},
     "output_type": "display_data"
    }
   ],
   "source": [
    "failures_mean_c = np.mean(failures_c, axis=(0,1))\n",
    "plt.plot(np.arange(20), failures_mean_c, 'o')\n",
    "worst_c = np.max(np.mean(failures_c, axis=1), axis=0)\n",
    "plt.plot(np.arange(20), worst_c, 'o')\n",
    "\n",
    "plt.xticks(ticks=np.arange(20), labels=['2'] + [None]*18 + [r'$\\beta_{50}$'])\n",
    "plt.ylabel(\"Failure frequency\")\n",
    "plt.title('SE (length scale 0.2, ONB approach)')\n",
    "_ = plt.legend(['Mean', 'Worst function'])\n",
    "plt.savefig('figures/figure4_right.pdf')"
   ]
  },
  {
   "cell_type": "markdown",
   "metadata": {},
   "source": [
    "### Experiment 1.3: Model misspecification, benign setting\n",
    "The results of this experiment are reported in Table 2, upper row."
   ]
  },
  {
   "cell_type": "code",
   "execution_count": 20,
   "metadata": {},
   "outputs": [
    {
     "name": "stdout",
     "output_type": "stream",
     "text": [
      "Experiment 1.3 a)\n",
      "\n",
      "Failures: [0. 0. 0. 0.]\n",
      "0: 6.53 +/- 0.038\n",
      "\n",
      "1: 6.97 +/- 0.035\n",
      "\n",
      "2: 7.39 +/- 0.033\n",
      "\n",
      "3: 7.77 +/- 0.031\n",
      "\n"
     ]
    }
   ],
   "source": [
    "(scalings_a, failures_a) = load_failures_and_scalings('exp_1_3_a')\n",
    "scalings_mean_a = np.mean(scalings_a, axis=(0,1))\n",
    "scalings_var_a = np.var(scalings_a, axis=(0,1))\n",
    "failures_a = np.sum(failures_a, axis=(0,1))\n",
    "\n",
    "print('Experiment 1.3 a)\\n')\n",
    "print(f'Failures: {failures_a}')\n",
    "for i in range(4):\n",
    "    print(f\"{i}: {scalings_mean_a[i]:1.2f} +/- {np.sqrt(scalings_var_a[i]):1.3f}\\n\")"
   ]
  },
  {
   "cell_type": "markdown",
   "metadata": {},
   "source": [
    "### Experiment 1.4: Model misspecification, problematic setting\n",
    "#### 1.4a) Sampling with standard kernel approach"
   ]
  },
  {
   "cell_type": "code",
   "execution_count": 21,
   "metadata": {},
   "outputs": [
    {
     "name": "stdout",
     "output_type": "stream",
     "text": [
      "Experiment 1.4 a)\n",
      "\n",
      "Number of functions with increased failure frequency\n",
      "[0 0 0 0]\n",
      "Scalings\n",
      "0: 6.11 +/- 0.03\n",
      "\n",
      "1: 6.64 +/- 0.03\n",
      "\n",
      "2: 7.11 +/- 0.02\n",
      "\n",
      "3: 7.54 +/- 0.02\n",
      "\n"
     ]
    }
   ],
   "source": [
    "(scalings_a, failures_a) = load_failures_and_scalings('exp_1_4_a')\n",
    "scalings_mean_a = np.mean(scalings_a, axis=(0,1))\n",
    "scalings_var_a = np.var(scalings_a, axis=(0,1))\n",
    "failures_a = np.sum(failures_a, axis=(1))\n",
    "\n",
    "print('Experiment 1.4 a)\\n')\n",
    "print('Number of functions with increased failure frequency')\n",
    "print(np.sum(failures_a/10000 > np.tile(np.array([0.1, 0.01, 0.001, 0.0001]), (50,1)), axis=0))\n",
    "\n",
    "print('Scalings')\n",
    "for i in range(4):\n",
    "    print(f\"{i}: {scalings_mean_a[i]:1.2f} +/- {np.sqrt(scalings_var_a[i]):1.2f}\\n\")"
   ]
  },
  {
   "cell_type": "markdown",
   "metadata": {},
   "source": [
    "#### 1.4b) Sampling with ONB"
   ]
  },
  {
   "cell_type": "code",
   "execution_count": 11,
   "metadata": {},
   "outputs": [
    {
     "name": "stdout",
     "output_type": "stream",
     "text": [
      "Experiment 1.4 b)\n",
      "\n",
      "Number of functions with increased failure frequency\n",
      "[0 0 1 1]\n",
      "Scalings\n",
      "0: 6.96 +/- 0.04\n",
      "\n",
      "1: 7.41 +/- 0.04\n",
      "\n",
      "2: 7.82 +/- 0.03\n",
      "\n",
      "3: 8.20 +/- 0.03\n",
      "\n"
     ]
    }
   ],
   "source": [
    "(scalings, failures) = load_failures_and_scalings('exp_1_4_b')\n",
    "scalings_mean_b = np.mean(scalings, axis=(0,1))\n",
    "scalings_var_b = np.var(scalings, axis=(0,1))\n",
    "failures_b = np.sum(failures, axis=1)\n",
    "\n",
    "print('Experiment 1.4 b)\\n')\n",
    "print('Number of functions with increased failure frequency')\n",
    "n_func_reps = 100\n",
    "print(np.sum(failures_b/10000 > np.tile(np.array([0.1, 0.01, 0.001, 0.0001]), (n_func_reps,1)), axis=0))\n",
    "\n",
    "print('Scalings')\n",
    "for i in range(4):\n",
    "    print(f\"{i}: {scalings_mean_b[i]:1.2f} +/- {np.sqrt(scalings_var_b[i]):1.2f}\\n\")"
   ]
  },
  {
   "cell_type": "code",
   "execution_count": 12,
   "metadata": {},
   "outputs": [
    {
     "data": {
      "text/plain": [
       "(100, 10000, 4)"
      ]
     },
     "execution_count": 12,
     "metadata": {},
     "output_type": "execute_result"
    }
   ],
   "source": [
    "failures.shape"
   ]
  },
  {
   "cell_type": "markdown",
   "metadata": {},
   "source": [
    "#### 1.4c) Robust bound with sampling from ONB"
   ]
  },
  {
   "cell_type": "code",
   "execution_count": 4,
   "metadata": {},
   "outputs": [
    {
     "name": "stdout",
     "output_type": "stream",
     "text": [
      "Experiment 1.4 c)\n",
      "\n",
      "Number of functions with increased failure frequency\n",
      "[0 0 0 0]\n"
     ]
    }
   ],
   "source": [
    "output_dir = 'exp_1_4_c'\n",
    "files = [f for f in os.listdir(os.path.join(output_dir)) if f.endswith('.npz')]\n",
    "\n",
    "# All runs have the same config\n",
    "n_rep_funcs = len(files)\n",
    "with open(os.path.join(output_dir, files[0]), 'rb') as file:\n",
    "    result = np.load(file)\n",
    "    n_rep_training = result['failures'].shape[0]\n",
    "    n_scalings = result['failures'].shape[1]\n",
    "    n_eval = result['scalings'].shape[1]\n",
    "\n",
    "# Load results\n",
    "failures_c = np.zeros([n_rep_funcs, n_rep_training, n_scalings])\n",
    "scalings = np.zeros([n_rep_funcs, n_rep_training*4, n_eval])\n",
    "\n",
    "for i in range(len(files)):\n",
    "    # with open(os.path.join(output_dir, files[i]), 'rb') as file:\n",
    "    # with np.load(os.path.join(output_dir, files[i])) as result:\n",
    "    result = np.load(os.path.join(output_dir, files[i]))\n",
    "    scalings[i,:] = result['scalings']\n",
    "    failures_c[i,:] = result['failures']\n",
    "    del result.f\n",
    "    result.close()\n",
    "            \n",
    "failures_c = np.sum(failures_c, axis=(1))\n",
    "\n",
    "print('Experiment 1.4 c)\\n')\n",
    "print('Number of functions with increased failure frequency')\n",
    "print(np.sum(failures_c/10000 > np.tile(np.array([0.1, 0.01, 0.001, 0.0001]), (n_rep_funcs,1)), axis=0))\n",
    "\n",
    "widths = [scalings[:,i,:] for i in range(4)]"
   ]
  },
  {
   "cell_type": "code",
   "execution_count": 5,
   "metadata": {},
   "outputs": [
    {
     "name": "stdout",
     "output_type": "stream",
     "text": [
      "Means of uncertainty tube width over input space\n",
      "(Averaged over all 50 function\n",
      "$71.68 \\pm 5.36$  & $73.79 \\pm 5.36$  & $75.64 \\pm 5.37$  & $77.33 \\pm 5.37$ \n"
     ]
    }
   ],
   "source": [
    "print('Means of uncertainty tube width over input space')\n",
    "print('(Averaged over all 50 function')\n",
    "mean_over_inputs = np.array([np.mean(widths_delta, axis=1) for widths_delta in widths])\n",
    "output = \"\"\n",
    "for i in range(4):\n",
    "    # print(f\"{i}: {np.mean(mean_over_inputs[i,:]):1.2f} +/- {np.sqrt(np.var(mean_over_inputs[i,:])):1.3f}\\n\")\n",
    "    output += f\"${np.mean(mean_over_inputs[i,:]):1.2f}\" + \" \\pm \" + f\"{np.sqrt(np.var(mean_over_inputs[i,:])):1.2f}$ \"\n",
    "    if i < 3:\n",
    "        output +=\" & \"\n",
    "print(output)"
   ]
  },
  {
   "cell_type": "code",
   "execution_count": 6,
   "metadata": {},
   "outputs": [
    {
     "name": "stdout",
     "output_type": "stream",
     "text": [
      "SD of uncertainty tube width over input space\n",
      "(Averaged over all 50 function\n",
      "$6.54 \\pm 1.73$  & $6.73 \\pm 1.78$  & $6.91 \\pm 1.82$  & $7.06 \\pm 1.86$ \n"
     ]
    }
   ],
   "source": [
    "print('SD of uncertainty tube width over input space')\n",
    "print('(Averaged over all 50 function')\n",
    "sd_over_inputs = np.array([np.sqrt(np.var(widths_delta, axis=1)) for widths_delta in widths])\n",
    "output = \"\"\n",
    "for i in range(4):\n",
    "    #print(f\"{i}: {np.mean(sd_over_inputs[i,:]):1.2f} +/- {np.sqrt(np.var(sd_over_inputs[i,:])):1.3f}\\n\")\n",
    "    output += f\"${np.mean(sd_over_inputs[i,:]):1.2f}\" + \" \\pm \" + f\"{np.sqrt(np.var(sd_over_inputs[i,:])):1.2f}$ \"\n",
    "    if i < 3:\n",
    "        output +=\" & \"\n",
    "print(output)"
   ]
  },
  {
   "cell_type": "code",
   "execution_count": null,
   "metadata": {},
   "outputs": [],
   "source": []
  }
 ],
 "metadata": {
  "kernelspec": {
   "display_name": "Python 3 (ipykernel)",
   "language": "python",
   "name": "python3"
  },
  "language_info": {
   "codemirror_mode": {
    "name": "ipython",
    "version": 3
   },
   "file_extension": ".py",
   "mimetype": "text/x-python",
   "name": "python",
   "nbconvert_exporter": "python",
   "pygments_lexer": "ipython3",
   "version": "3.10.8"
  }
 },
 "nbformat": 4,
 "nbformat_minor": 4
}
